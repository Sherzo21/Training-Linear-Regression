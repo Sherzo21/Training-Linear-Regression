{
 "cells": [
  {
   "cell_type": "code",
   "execution_count": 61,
   "id": "b2ed24f4",
   "metadata": {},
   "outputs": [],
   "source": [
    "import pandas as pd"
   ]
  },
  {
   "cell_type": "code",
   "execution_count": 62,
   "id": "362b2b6e",
   "metadata": {},
   "outputs": [],
   "source": [
    "# Loading the data\n",
    "data = pd.read_csv('wifi_flow.csv')"
   ]
  },
  {
   "cell_type": "code",
   "execution_count": 63,
   "id": "4790a0c7",
   "metadata": {},
   "outputs": [
    {
     "data": {
      "text/html": [
       "<div>\n",
       "<style scoped>\n",
       "    .dataframe tbody tr th:only-of-type {\n",
       "        vertical-align: middle;\n",
       "    }\n",
       "\n",
       "    .dataframe tbody tr th {\n",
       "        vertical-align: top;\n",
       "    }\n",
       "\n",
       "    .dataframe thead th {\n",
       "        text-align: right;\n",
       "    }\n",
       "</style>\n",
       "<table border=\"1\" class=\"dataframe\">\n",
       "  <thead>\n",
       "    <tr style=\"text-align: right;\">\n",
       "      <th></th>\n",
       "      <th>dt_year</th>\n",
       "      <th>dt_month</th>\n",
       "      <th>dt_half</th>\n",
       "      <th>season_code</th>\n",
       "      <th>move_path</th>\n",
       "      <th>total_path_count</th>\n",
       "      <th>total_duplicate_path_count</th>\n",
       "    </tr>\n",
       "  </thead>\n",
       "  <tbody>\n",
       "    <tr>\n",
       "      <th>0</th>\n",
       "      <td>2016</td>\n",
       "      <td>12.0</td>\n",
       "      <td>2.0</td>\n",
       "      <td>4.0</td>\n",
       "      <td>Manjanggul-&gt;Bijarim</td>\n",
       "      <td>1.0</td>\n",
       "      <td>1.0</td>\n",
       "    </tr>\n",
       "    <tr>\n",
       "      <th>1</th>\n",
       "      <td>2016</td>\n",
       "      <td>12.0</td>\n",
       "      <td>2.0</td>\n",
       "      <td>4.0</td>\n",
       "      <td>Manjanggul-&gt;Seopjikoji</td>\n",
       "      <td>5.0</td>\n",
       "      <td>5.0</td>\n",
       "    </tr>\n",
       "    <tr>\n",
       "      <th>2</th>\n",
       "      <td>2016</td>\n",
       "      <td>12.0</td>\n",
       "      <td>2.0</td>\n",
       "      <td>4.0</td>\n",
       "      <td>Manjanggul-&gt;Seongsanilchul Provincial Marine Park</td>\n",
       "      <td>12.0</td>\n",
       "      <td>12.0</td>\n",
       "    </tr>\n",
       "    <tr>\n",
       "      <th>3</th>\n",
       "      <td>2016,12,2,4,\"Manjanggul-&gt;Jeongbang Waterfall, ...</td>\n",
       "      <td>NaN</td>\n",
       "      <td>NaN</td>\n",
       "      <td>NaN</td>\n",
       "      <td>NaN</td>\n",
       "      <td>NaN</td>\n",
       "      <td>NaN</td>\n",
       "    </tr>\n",
       "    <tr>\n",
       "      <th>4</th>\n",
       "      <td>2016</td>\n",
       "      <td>12.0</td>\n",
       "      <td>2.0</td>\n",
       "      <td>4.0</td>\n",
       "      <td>Manjanggul-&gt;Jusangjeolli</td>\n",
       "      <td>1.0</td>\n",
       "      <td>1.0</td>\n",
       "    </tr>\n",
       "    <tr>\n",
       "      <th>...</th>\n",
       "      <td>...</td>\n",
       "      <td>...</td>\n",
       "      <td>...</td>\n",
       "      <td>...</td>\n",
       "      <td>...</td>\n",
       "      <td>...</td>\n",
       "      <td>...</td>\n",
       "    </tr>\n",
       "    <tr>\n",
       "      <th>36542</th>\n",
       "      <td>2017</td>\n",
       "      <td>9.0</td>\n",
       "      <td>2.0</td>\n",
       "      <td>3.0</td>\n",
       "      <td>Hyuaeri-&gt;Jeju Pony Town</td>\n",
       "      <td>1.0</td>\n",
       "      <td>1.0</td>\n",
       "    </tr>\n",
       "    <tr>\n",
       "      <th>36543</th>\n",
       "      <td>2017,9,2,3,\"Hyuaeri-&gt;Cheonjiyeon Waterfall, Sa...</td>\n",
       "      <td>NaN</td>\n",
       "      <td>NaN</td>\n",
       "      <td>NaN</td>\n",
       "      <td>NaN</td>\n",
       "      <td>NaN</td>\n",
       "      <td>NaN</td>\n",
       "    </tr>\n",
       "    <tr>\n",
       "      <th>36544</th>\n",
       "      <td>2017</td>\n",
       "      <td>9.0</td>\n",
       "      <td>2.0</td>\n",
       "      <td>3.0</td>\n",
       "      <td>Hyuaeri-&gt;Camellia Hill</td>\n",
       "      <td>1.0</td>\n",
       "      <td>1.0</td>\n",
       "    </tr>\n",
       "    <tr>\n",
       "      <th>36545</th>\n",
       "      <td>2017,9,2,3,\"Hyuaeri-&gt;Keuneong-&gt;Seongsan-eup, S...</td>\n",
       "      <td>NaN</td>\n",
       "      <td>NaN</td>\n",
       "      <td>NaN</td>\n",
       "      <td>NaN</td>\n",
       "      <td>NaN</td>\n",
       "      <td>NaN</td>\n",
       "    </tr>\n",
       "    <tr>\n",
       "      <th>36546</th>\n",
       "      <td>2017</td>\n",
       "      <td>9.0</td>\n",
       "      <td>2.0</td>\n",
       "      <td>3.0</td>\n",
       "      <td>Hyuaeri-&gt;Hayo soesokkak the beach</td>\n",
       "      <td>1.0</td>\n",
       "      <td>1.0</td>\n",
       "    </tr>\n",
       "  </tbody>\n",
       "</table>\n",
       "<p>36547 rows × 7 columns</p>\n",
       "</div>"
      ],
      "text/plain": [
       "                                                 dt_year  dt_month  dt_half  \\\n",
       "0                                                   2016      12.0      2.0   \n",
       "1                                                   2016      12.0      2.0   \n",
       "2                                                   2016      12.0      2.0   \n",
       "3      2016,12,2,4,\"Manjanggul->Jeongbang Waterfall, ...       NaN      NaN   \n",
       "4                                                   2016      12.0      2.0   \n",
       "...                                                  ...       ...      ...   \n",
       "36542                                               2017       9.0      2.0   \n",
       "36543  2017,9,2,3,\"Hyuaeri->Cheonjiyeon Waterfall, Sa...       NaN      NaN   \n",
       "36544                                               2017       9.0      2.0   \n",
       "36545  2017,9,2,3,\"Hyuaeri->Keuneong->Seongsan-eup, S...       NaN      NaN   \n",
       "36546                                               2017       9.0      2.0   \n",
       "\n",
       "       season_code                                          move_path  \\\n",
       "0              4.0                                Manjanggul->Bijarim   \n",
       "1              4.0                            Manjanggul->Seopjikoji    \n",
       "2              4.0  Manjanggul->Seongsanilchul Provincial Marine Park   \n",
       "3              NaN                                                NaN   \n",
       "4              4.0                           Manjanggul->Jusangjeolli   \n",
       "...            ...                                                ...   \n",
       "36542          3.0                            Hyuaeri->Jeju Pony Town   \n",
       "36543          NaN                                                NaN   \n",
       "36544          3.0                             Hyuaeri->Camellia Hill   \n",
       "36545          NaN                                                NaN   \n",
       "36546          3.0                  Hyuaeri->Hayo soesokkak the beach   \n",
       "\n",
       "       total_path_count  total_duplicate_path_count  \n",
       "0                   1.0                         1.0  \n",
       "1                   5.0                         5.0  \n",
       "2                  12.0                        12.0  \n",
       "3                   NaN                         NaN  \n",
       "4                   1.0                         1.0  \n",
       "...                 ...                         ...  \n",
       "36542               1.0                         1.0  \n",
       "36543               NaN                         NaN  \n",
       "36544               1.0                         1.0  \n",
       "36545               NaN                         NaN  \n",
       "36546               1.0                         1.0  \n",
       "\n",
       "[36547 rows x 7 columns]"
      ]
     },
     "execution_count": 63,
     "metadata": {},
     "output_type": "execute_result"
    }
   ],
   "source": [
    "data"
   ]
  },
  {
   "cell_type": "code",
   "execution_count": 64,
   "id": "526ab543",
   "metadata": {},
   "outputs": [
    {
     "name": "stdout",
     "output_type": "stream",
     "text": [
      "                                             dt_year  dt_month  dt_half  \\\n",
      "0                                               2016      12.0      2.0   \n",
      "1                                               2016      12.0      2.0   \n",
      "2                                               2016      12.0      2.0   \n",
      "3  2016,12,2,4,\"Manjanggul->Jeongbang Waterfall, ...       NaN      NaN   \n",
      "4                                               2016      12.0      2.0   \n",
      "\n",
      "   season_code                                          move_path  \\\n",
      "0          4.0                                Manjanggul->Bijarim   \n",
      "1          4.0                            Manjanggul->Seopjikoji    \n",
      "2          4.0  Manjanggul->Seongsanilchul Provincial Marine Park   \n",
      "3          NaN                                                NaN   \n",
      "4          4.0                           Manjanggul->Jusangjeolli   \n",
      "\n",
      "   total_path_count  total_duplicate_path_count  \n",
      "0               1.0                         1.0  \n",
      "1               5.0                         5.0  \n",
      "2              12.0                        12.0  \n",
      "3               NaN                         NaN  \n",
      "4               1.0                         1.0  \n"
     ]
    }
   ],
   "source": [
    "print(data.head())"
   ]
  },
  {
   "cell_type": "code",
   "execution_count": 65,
   "id": "befe58df",
   "metadata": {},
   "outputs": [
    {
     "name": "stdout",
     "output_type": "stream",
     "text": [
      "dt_year                           0\n",
      "dt_month                      24531\n",
      "dt_half                       24531\n",
      "season_code                   24531\n",
      "move_path                     24531\n",
      "total_path_count              24531\n",
      "total_duplicate_path_count    24531\n",
      "dtype: int64\n"
     ]
    }
   ],
   "source": [
    "# Checking for missing values\n",
    "missing_values = data.isnull().sum()\n",
    "print(missing_values)"
   ]
  },
  {
   "cell_type": "code",
   "execution_count": 66,
   "id": "aa8b3a21",
   "metadata": {},
   "outputs": [],
   "source": [
    "# Removing rows with missing values\n",
    "data_cleaned = data.dropna()"
   ]
  },
  {
   "cell_type": "code",
   "execution_count": 67,
   "id": "ad60e108",
   "metadata": {},
   "outputs": [],
   "source": [
    "# Selecting numeric columns\n",
    "numeric_columns = data.select_dtypes(include='number')"
   ]
  },
  {
   "cell_type": "code",
   "execution_count": 68,
   "id": "4a4510b8",
   "metadata": {},
   "outputs": [],
   "source": [
    "from sklearn.model_selection import train_test_split"
   ]
  },
  {
   "cell_type": "code",
   "execution_count": 69,
   "id": "c509810b",
   "metadata": {},
   "outputs": [],
   "source": [
    "# Defining features and target variable\n",
    "features = data_cleaned[['dt_year', 'dt_month', 'dt_half', 'season_code']]\n",
    "target = data_cleaned['total_path_count']"
   ]
  },
  {
   "cell_type": "code",
   "execution_count": 70,
   "id": "662b94a4",
   "metadata": {},
   "outputs": [],
   "source": [
    "# Splitting the data into training and testing sets\n",
    "X_train, X_test, y_train, y_test = train_test_split(features, target, test_size=0.2, random_state=42)"
   ]
  },
  {
   "cell_type": "code",
   "execution_count": 71,
   "id": "2e35dba3",
   "metadata": {},
   "outputs": [],
   "source": [
    "from sklearn.linear_model import LinearRegression"
   ]
  },
  {
   "cell_type": "code",
   "execution_count": 72,
   "id": "502ff0d9",
   "metadata": {},
   "outputs": [
    {
     "data": {
      "text/html": [
       "<style>#sk-container-id-2 {color: black;}#sk-container-id-2 pre{padding: 0;}#sk-container-id-2 div.sk-toggleable {background-color: white;}#sk-container-id-2 label.sk-toggleable__label {cursor: pointer;display: block;width: 100%;margin-bottom: 0;padding: 0.3em;box-sizing: border-box;text-align: center;}#sk-container-id-2 label.sk-toggleable__label-arrow:before {content: \"▸\";float: left;margin-right: 0.25em;color: #696969;}#sk-container-id-2 label.sk-toggleable__label-arrow:hover:before {color: black;}#sk-container-id-2 div.sk-estimator:hover label.sk-toggleable__label-arrow:before {color: black;}#sk-container-id-2 div.sk-toggleable__content {max-height: 0;max-width: 0;overflow: hidden;text-align: left;background-color: #f0f8ff;}#sk-container-id-2 div.sk-toggleable__content pre {margin: 0.2em;color: black;border-radius: 0.25em;background-color: #f0f8ff;}#sk-container-id-2 input.sk-toggleable__control:checked~div.sk-toggleable__content {max-height: 200px;max-width: 100%;overflow: auto;}#sk-container-id-2 input.sk-toggleable__control:checked~label.sk-toggleable__label-arrow:before {content: \"▾\";}#sk-container-id-2 div.sk-estimator input.sk-toggleable__control:checked~label.sk-toggleable__label {background-color: #d4ebff;}#sk-container-id-2 div.sk-label input.sk-toggleable__control:checked~label.sk-toggleable__label {background-color: #d4ebff;}#sk-container-id-2 input.sk-hidden--visually {border: 0;clip: rect(1px 1px 1px 1px);clip: rect(1px, 1px, 1px, 1px);height: 1px;margin: -1px;overflow: hidden;padding: 0;position: absolute;width: 1px;}#sk-container-id-2 div.sk-estimator {font-family: monospace;background-color: #f0f8ff;border: 1px dotted black;border-radius: 0.25em;box-sizing: border-box;margin-bottom: 0.5em;}#sk-container-id-2 div.sk-estimator:hover {background-color: #d4ebff;}#sk-container-id-2 div.sk-parallel-item::after {content: \"\";width: 100%;border-bottom: 1px solid gray;flex-grow: 1;}#sk-container-id-2 div.sk-label:hover label.sk-toggleable__label {background-color: #d4ebff;}#sk-container-id-2 div.sk-serial::before {content: \"\";position: absolute;border-left: 1px solid gray;box-sizing: border-box;top: 0;bottom: 0;left: 50%;z-index: 0;}#sk-container-id-2 div.sk-serial {display: flex;flex-direction: column;align-items: center;background-color: white;padding-right: 0.2em;padding-left: 0.2em;position: relative;}#sk-container-id-2 div.sk-item {position: relative;z-index: 1;}#sk-container-id-2 div.sk-parallel {display: flex;align-items: stretch;justify-content: center;background-color: white;position: relative;}#sk-container-id-2 div.sk-item::before, #sk-container-id-2 div.sk-parallel-item::before {content: \"\";position: absolute;border-left: 1px solid gray;box-sizing: border-box;top: 0;bottom: 0;left: 50%;z-index: -1;}#sk-container-id-2 div.sk-parallel-item {display: flex;flex-direction: column;z-index: 1;position: relative;background-color: white;}#sk-container-id-2 div.sk-parallel-item:first-child::after {align-self: flex-end;width: 50%;}#sk-container-id-2 div.sk-parallel-item:last-child::after {align-self: flex-start;width: 50%;}#sk-container-id-2 div.sk-parallel-item:only-child::after {width: 0;}#sk-container-id-2 div.sk-dashed-wrapped {border: 1px dashed gray;margin: 0 0.4em 0.5em 0.4em;box-sizing: border-box;padding-bottom: 0.4em;background-color: white;}#sk-container-id-2 div.sk-label label {font-family: monospace;font-weight: bold;display: inline-block;line-height: 1.2em;}#sk-container-id-2 div.sk-label-container {text-align: center;}#sk-container-id-2 div.sk-container {/* jupyter's `normalize.less` sets `[hidden] { display: none; }` but bootstrap.min.css set `[hidden] { display: none !important; }` so we also need the `!important` here to be able to override the default hidden behavior on the sphinx rendered scikit-learn.org. See: https://github.com/scikit-learn/scikit-learn/issues/21755 */display: inline-block !important;position: relative;}#sk-container-id-2 div.sk-text-repr-fallback {display: none;}</style><div id=\"sk-container-id-2\" class=\"sk-top-container\"><div class=\"sk-text-repr-fallback\"><pre>LinearRegression()</pre><b>In a Jupyter environment, please rerun this cell to show the HTML representation or trust the notebook. <br />On GitHub, the HTML representation is unable to render, please try loading this page with nbviewer.org.</b></div><div class=\"sk-container\" hidden><div class=\"sk-item\"><div class=\"sk-estimator sk-toggleable\"><input class=\"sk-toggleable__control sk-hidden--visually\" id=\"sk-estimator-id-2\" type=\"checkbox\" checked><label for=\"sk-estimator-id-2\" class=\"sk-toggleable__label sk-toggleable__label-arrow\">LinearRegression</label><div class=\"sk-toggleable__content\"><pre>LinearRegression()</pre></div></div></div></div></div>"
      ],
      "text/plain": [
       "LinearRegression()"
      ]
     },
     "execution_count": 72,
     "metadata": {},
     "output_type": "execute_result"
    }
   ],
   "source": [
    "# Creating a linear regression model\n",
    "model = LinearRegression()\n",
    "\n",
    "# Training the model\n",
    "model.fit(X_train, y_train)"
   ]
  },
  {
   "cell_type": "code",
   "execution_count": 73,
   "id": "d558b1ca",
   "metadata": {},
   "outputs": [],
   "source": [
    "from sklearn.metrics import mean_absolute_error, mean_squared_error, r2_score"
   ]
  },
  {
   "cell_type": "code",
   "execution_count": 74,
   "id": "12cb6b98",
   "metadata": {},
   "outputs": [],
   "source": [
    "# Making predictions on the test set\n",
    "predictions = model.predict(X_test)"
   ]
  },
  {
   "cell_type": "code",
   "execution_count": 75,
   "id": "f9a8fa49",
   "metadata": {},
   "outputs": [],
   "source": [
    "# Evaluating the model\n",
    "mae = mean_absolute_error(y_test, predictions)\n",
    "mse = mean_squared_error(y_test, predictions)\n",
    "r2 = r2_score(y_test, predictions)"
   ]
  },
  {
   "cell_type": "code",
   "execution_count": 76,
   "id": "08740530",
   "metadata": {},
   "outputs": [
    {
     "name": "stdout",
     "output_type": "stream",
     "text": [
      "MAE: 2.7673309369952643\n",
      "MSE: 53.61544610937203\n",
      "R-squared: 0.00011219463755873793\n"
     ]
    }
   ],
   "source": [
    "print(f'MAE: {mae}')\n",
    "print(f'MSE: {mse}')\n",
    "print(f'R-squared: {r2}')"
   ]
  },
  {
   "cell_type": "code",
   "execution_count": 77,
   "id": "e9d6cd9d",
   "metadata": {},
   "outputs": [],
   "source": [
    "import pandas as pd"
   ]
  },
  {
   "cell_type": "code",
   "execution_count": 78,
   "id": "a1d6b115",
   "metadata": {},
   "outputs": [],
   "source": [
    "# Loading the data\n",
    "data = pd.read_csv('wifi_flow.csv')"
   ]
  },
  {
   "cell_type": "code",
   "execution_count": 79,
   "id": "aba0116f",
   "metadata": {},
   "outputs": [
    {
     "name": "stdout",
     "output_type": "stream",
     "text": [
      "Shape before cleaning: (36547, 7)\n"
     ]
    }
   ],
   "source": [
    "# Printing the shape before cleaning\n",
    "print(\"Shape before cleaning:\", data.shape)"
   ]
  },
  {
   "cell_type": "code",
   "execution_count": 80,
   "id": "0c012c21",
   "metadata": {},
   "outputs": [
    {
     "name": "stdout",
     "output_type": "stream",
     "text": [
      "Missing values before cleaning:\n",
      "dt_year                           0\n",
      "dt_month                      24531\n",
      "dt_half                       24531\n",
      "season_code                   24531\n",
      "move_path                     24531\n",
      "total_path_count              24531\n",
      "total_duplicate_path_count    24531\n",
      "dtype: int64\n"
     ]
    }
   ],
   "source": [
    "# Checking for missing values\n",
    "missing_values = data.isnull().sum()\n",
    "print(\"Missing values before cleaning:\")\n",
    "print(missing_values)"
   ]
  },
  {
   "cell_type": "code",
   "execution_count": 81,
   "id": "8147edd4",
   "metadata": {},
   "outputs": [
    {
     "name": "stdout",
     "output_type": "stream",
     "text": [
      "Shape after cleaning: (12016, 7)\n"
     ]
    }
   ],
   "source": [
    "# Removing rows with missing values\n",
    "data_cleaned = data.dropna()\n",
    "\n",
    "# Printing the shape after cleaning\n",
    "print(\"Shape after cleaning:\", data_cleaned.shape)"
   ]
  },
  {
   "cell_type": "code",
   "execution_count": 83,
   "id": "0ddffebc",
   "metadata": {},
   "outputs": [
    {
     "name": "stdout",
     "output_type": "stream",
     "text": [
      "Missing values in cleaned data:\n",
      "dt_year                       0\n",
      "dt_month                      0\n",
      "dt_half                       0\n",
      "season_code                   0\n",
      "move_path                     0\n",
      "total_path_count              0\n",
      "total_duplicate_path_count    0\n",
      "dtype: int64\n"
     ]
    }
   ],
   "source": [
    "# Checking for missing values in the cleaned data\n",
    "missing_values_cleaned = data_cleaned.isnull().sum()\n",
    "print(\"Missing values in cleaned data:\")\n",
    "print(missing_values_cleaned)"
   ]
  },
  {
   "cell_type": "code",
   "execution_count": null,
   "id": "afbf6204",
   "metadata": {},
   "outputs": [],
   "source": []
  }
 ],
 "metadata": {
  "kernelspec": {
   "display_name": "Python 3 (ipykernel)",
   "language": "python",
   "name": "python3"
  },
  "language_info": {
   "codemirror_mode": {
    "name": "ipython",
    "version": 3
   },
   "file_extension": ".py",
   "mimetype": "text/x-python",
   "name": "python",
   "nbconvert_exporter": "python",
   "pygments_lexer": "ipython3",
   "version": "3.11.5"
  }
 },
 "nbformat": 4,
 "nbformat_minor": 5
}
